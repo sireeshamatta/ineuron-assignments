{
 "cells": [
  {
   "cell_type": "code",
   "execution_count": 3,
   "id": "525b0ba7",
   "metadata": {
    "scrolled": false
   },
   "outputs": [],
   "source": [
    "#write a python program to find lcm\n",
    "\n"
   ]
  },
  {
   "cell_type": "code",
   "execution_count": null,
   "id": "f3fd18a6",
   "metadata": {},
   "outputs": [],
   "source": []
  },
  {
   "cell_type": "code",
   "execution_count": 1,
   "id": "eecb90f0",
   "metadata": {},
   "outputs": [],
   "source": [
    "def lcm(a, b):\n",
    "   if a > b:\n",
    "       greate = a\n",
    "   else:\n",
    "       greate= b\n",
    "\n",
    "   while(True):\n",
    "       if((greate % a == 0) and (greate % b == 0)):\n",
    "           lc = greate\n",
    "           break\n",
    "       greate += 1\n",
    "\n",
    "   return lc\n",
    "\n"
   ]
  },
  {
   "cell_type": "code",
   "execution_count": 2,
   "id": "047526be",
   "metadata": {},
   "outputs": [
    {
     "data": {
      "text/plain": [
       "4"
      ]
     },
     "execution_count": 2,
     "metadata": {},
     "output_type": "execute_result"
    }
   ],
   "source": [
    "lcm(2,4)"
   ]
  },
  {
   "cell_type": "code",
   "execution_count": 5,
   "id": "ff5cc40e",
   "metadata": {},
   "outputs": [],
   "source": [
    "#find hcf\n",
    "\n",
    "def hcf(a,b):\n",
    "    if a<b:\n",
    "        smaller=a\n",
    "    else:\n",
    "        smaller=b\n",
    "    for i in range(1,smaller+1):\n",
    "        if((a%i==0)and(b%i==0)):\n",
    "            hcf=i\n",
    "    return hcf"
   ]
  },
  {
   "cell_type": "code",
   "execution_count": 7,
   "id": "e41915e3",
   "metadata": {},
   "outputs": [
    {
     "data": {
      "text/plain": [
       "4"
      ]
     },
     "execution_count": 7,
     "metadata": {},
     "output_type": "execute_result"
    }
   ],
   "source": [
    "hcf(8,12)"
   ]
  },
  {
   "cell_type": "code",
   "execution_count": 37,
   "id": "c67c28f3",
   "metadata": {},
   "outputs": [
    {
     "name": "stdout",
     "output_type": "stream",
     "text": [
      "[1, 0, 1, 1]\n"
     ]
    }
   ],
   "source": [
    "#write a program to convert Decimal to binary,octal and hexadecimal\n",
    "#Decimal to Binary\n",
    "def DtoB(a,l):\n",
    "    if a>=1:\n",
    "        l.append(a%2)\n",
    "        DtoB(a//2,l)\n",
    "        return l\n",
    "l=[]       \n",
    "r=DtoB(11,l)\n",
    "print(r[::-1])\n"
   ]
  },
  {
   "cell_type": "code",
   "execution_count": 33,
   "id": "fb138acf",
   "metadata": {},
   "outputs": [
    {
     "name": "stdout",
     "output_type": "stream",
     "text": [
      "[4, 1]\n"
     ]
    }
   ],
   "source": [
    "#Decimal to octal\n",
    "def DtoO(a,l):\n",
    "    if a!=0:\n",
    "        l.append(a%8)\n",
    "        DtoO(a//8,l)\n",
    "    return l\n",
    "l=[]        \n",
    "r=DtoO(33,l)\n",
    "        \n",
    "print(r[::-1])\n",
    "    "
   ]
  },
  {
   "cell_type": "code",
   "execution_count": 40,
   "id": "6e5e01cd",
   "metadata": {},
   "outputs": [
    {
     "name": "stdout",
     "output_type": "stream",
     "text": [
      "011000"
     ]
    }
   ],
   "source": [
    "#Decimal to Binary another method\n",
    "def decimalToBinary(val):\n",
    "    if val >= 1:\n",
    "        decimalToBinary(val // 2)\n",
    "    print(val % 2, end = '')\n",
    "#if __name__ == '__main__':\n",
    "val = 24\n",
    "decimalToBinary(val)\n",
    "    \n",
    "    "
   ]
  },
  {
   "cell_type": "code",
   "execution_count": 42,
   "id": "7ca4b6a4",
   "metadata": {},
   "outputs": [
    {
     "data": {
      "text/plain": [
       "'45'"
      ]
     },
     "execution_count": 42,
     "metadata": {},
     "output_type": "execute_result"
    }
   ],
   "source": [
    "#Decimal to Hexadecimal\n",
    "# creation of conversion table\n",
    "def DtoHEX(a,c_t):\n",
    "    hex=\"\"\n",
    "    while(a>0):\n",
    "        rem=a%16\n",
    "        hex=c_t[rem]+hex\n",
    "        a=a//16\n",
    "    return hex\n",
    "    \n",
    "\n",
    "c_t={0:'0',1:'1',2:'2',3:'3',4:'4',5:'5',6:'6',8:'8',9:'9',10:'A',11:'B',12:'C',13:'D',14:'E',15:'F'}\n",
    "DtoHEX(69,c_t)\n"
   ]
  },
  {
   "cell_type": "code",
   "execution_count": 45,
   "id": "20a94f0a",
   "metadata": {},
   "outputs": [
    {
     "name": "stdout",
     "output_type": "stream",
     "text": [
      "please enter a charector O\n",
      "The ASCII value of O is 79\n"
     ]
    }
   ],
   "source": [
    "#Write a Python Program To Find ASCII value of a character?\n",
    "# BY USING ord( )function\n",
    "K= input(\"please enter a charector \")\n",
    "print(\"The ASCII value of \"+K+\" is\",ord(K))"
   ]
  },
  {
   "cell_type": "code",
   "execution_count": null,
   "id": "9311655e",
   "metadata": {
    "scrolled": true
   },
   "outputs": [
    {
     "name": "stdout",
     "output_type": "stream",
     "text": [
      "Object `operations` not found.\n"
     ]
    }
   ],
   "source": [
    "Write a Python Program to Make a Simple Calculator with 4 basic mathematical operations?\n",
    "import math\n",
    "def addit(a,b):\n",
    "    return a+b\n",
    "def subit(a,b):\n",
    "    return a-b\n",
    "def mulit(a,b):\n",
    "    return a*b\n",
    "def divit(a,b):\n",
    "    if b!=0:\n",
    "        return a/b\n",
    "    else:\n",
    "        print(\"not possible\")\n",
    "        \n",
    "\n",
    "\n",
    "A=int(input(\"enter the first value \"))\n",
    "B=int(input(\"enter the second value \"))\n",
    "O=str(input(\"enter the method of operation\"))\n",
    "\n",
    "if O==\"+\":\n",
    "    addit(A,B)\n",
    "if O==\"-\":\n",
    "    subit(A,B)\n",
    "if O==\"*\":\n",
    "    mulit(A,B)\n",
    "if O==\"/\": \n",
    "    divit(A,B)\n"
   ]
  },
  {
   "cell_type": "code",
   "execution_count": null,
   "id": "242f73f2",
   "metadata": {},
   "outputs": [],
   "source": []
  },
  {
   "cell_type": "code",
   "execution_count": null,
   "id": "419001dc",
   "metadata": {},
   "outputs": [],
   "source": []
  }
 ],
 "metadata": {
  "kernelspec": {
   "display_name": "Python 3 (ipykernel)",
   "language": "python",
   "name": "python3"
  },
  "language_info": {
   "codemirror_mode": {
    "name": "ipython",
    "version": 3
   },
   "file_extension": ".py",
   "mimetype": "text/x-python",
   "name": "python",
   "nbconvert_exporter": "python",
   "pygments_lexer": "ipython3",
   "version": "3.9.12"
  }
 },
 "nbformat": 4,
 "nbformat_minor": 5
}
