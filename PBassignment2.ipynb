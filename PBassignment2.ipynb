{
 "cells": [
  {
   "cell_type": "code",
   "execution_count": 5,
   "id": "3ff6f188",
   "metadata": {},
   "outputs": [
    {
     "name": "stdout",
     "output_type": "stream",
     "text": [
      "enter the distance in kilometers 10\n",
      "distance in miles is 6.21371\n"
     ]
    }
   ],
   "source": [
    "#1.write a program to convert kilometers to miles?\n",
    "\n",
    "\n",
    "Km=float(input(\"enter the distance in kilometers \"))\n",
    "m=Km*0.621371\n",
    "print(\"distance in miles is\",m)"
   ]
  },
  {
   "cell_type": "code",
   "execution_count": 7,
   "id": "6a0f088f",
   "metadata": {},
   "outputs": [
    {
     "name": "stdout",
     "output_type": "stream",
     "text": [
      "enter the temperature in celsius scale 100\n",
      "temperature in fahrenheit is 212.0\n"
     ]
    }
   ],
   "source": [
    "#2.Write a program to convert celsius to fahrenheit?\n",
    "C=float(input(\"enter the temperature in celsius scale \"))\n",
    "F=C*(9/5)+32\n",
    "print(\"temperature in fahrenheit is\",F)"
   ]
  },
  {
   "cell_type": "code",
   "execution_count": 10,
   "id": "bc427b94",
   "metadata": {},
   "outputs": [
    {
     "name": "stdout",
     "output_type": "stream",
     "text": [
      "enter year89\n",
      "enter month07\n",
      "calendar of the month:\n",
      "\n",
      "      July 89\n",
      "Mo Tu We Th Fr Sa Su\n",
      "             1  2  3\n",
      " 4  5  6  7  8  9 10\n",
      "11 12 13 14 15 16 17\n",
      "18 19 20 21 22 23 24\n",
      "25 26 27 28 29 30 31\n",
      "\n"
     ]
    }
   ],
   "source": [
    "#write a program to display calender?\n",
    "import calendar\n",
    "yy=int(input(\"enter year\"))\n",
    "mm=int(input(\"enter month\"))\n",
    "print(\"calendar of the month:\\n\")\n",
    "print(calendar.month(yy,mm))"
   ]
  },
  {
   "cell_type": "code",
   "execution_count": 5,
   "id": "d85df804",
   "metadata": {},
   "outputs": [
    {
     "name": "stdout",
     "output_type": "stream",
     "text": [
      "enter the a value 2\n",
      "enter the b value 1\n",
      "enter the c value 1\n",
      "roots are complex\n",
      "the solutions are (-0.25-0.6614378277661477j) and (-0.25+0.6614378277661477j)\n"
     ]
    }
   ],
   "source": [
    "# write a program to solve a quadratic equqtion?\n",
    "import cmath # for complex mathematical functions\n",
    "a=float(input(\"enter the a value \"))\n",
    "b=float(input(\"enter the b value \"))\n",
    "c=float(input(\"enter the c value \"))\n",
    "# the standard quadratic equation is ax**2+bx+c=0, a,b,c are real numbers,the value of the roots can be derived from formula\n",
    "#(-b ± (b ** 2 - 4 * a * c) ** 0.5) / (2 * a)) for second degree in x\n",
    "# calculate the discriminant\n",
    "\n",
    "d=(b**2)-(4*a*c)\n",
    "if (d<0):\n",
    "    print(\"roots are complex\")\n",
    "    sol1 = (-b-(cmath.sqrt(d)))/(2*a)\n",
    "    sol2 = (-b+(cmath.sqrt(d)))/(2*a)\n",
    "    print(\"the solutions are {0} and {1}\".format(sol1,sol2))\n",
    "    \n",
    "elif (d>0):\n",
    "    print(\"roots are real and different\")\n",
    "    sol1 = (-b-(cmath.sqrt(d)))/(2*a)\n",
    "    sol2 = (-b+(cmath.sqrt(d)))/(2*a)\n",
    "    print(\"the solutions are {0} and {1}\".format(sol1,sol2))\n",
    "else:\n",
    "    print(\"roots are real and same\") \n",
    "    print(\"the solution is\",-b/(2*a))"
   ]
  },
  {
   "cell_type": "code",
   "execution_count": 6,
   "id": "ca5ba46c",
   "metadata": {},
   "outputs": [
    {
     "name": "stdout",
     "output_type": "stream",
     "text": [
      "enter x value 10\n",
      "enter y value 15\n",
      "the values of x and y after swapping 15 10\n"
     ]
    }
   ],
   "source": [
    "#5.Write a Python program to swap two variables without temp variable?\n",
    "#ans \n",
    "x=int(input(\"enter x value \"))\n",
    "y=int(input(\"enter y value \"))\n",
    "# direct swapping at same time\n",
    "x,y =y,x\n",
    "print(\"the values of x and y after swapping\", x, y)"
   ]
  },
  {
   "cell_type": "code",
   "execution_count": 7,
   "id": "1a376743",
   "metadata": {},
   "outputs": [
    {
     "name": "stdout",
     "output_type": "stream",
     "text": [
      "enter x value 2\n",
      "enter y value 4\n",
      "value of x after swapping: 4\n",
      "value of y after swapping: 2\n"
     ]
    }
   ],
   "source": [
    "# another method of swaping using xor bitwise operator\n",
    "#the XOR of two numbers x and y \n",
    "# T  T  F\n",
    "# F  F  F\n",
    "# T  F  T\n",
    "# F  T  T\n",
    "x=int(input(\"enter x value \"))\n",
    "y=int(input(\"enter y value \"))\n",
    "\n",
    "#XOR operator first converts an integer in to a binary number and then performs bitwise operation\n",
    "x = x ^ y\n",
    "y = x ^ y\n",
    "x = x ^ y\n",
    "\n",
    "print(\"value of x after swapping:\",x)\n",
    "print(\"value of y after swapping:\",y)\n"
   ]
  },
  {
   "cell_type": "code",
   "execution_count": null,
   "id": "3bac805c",
   "metadata": {},
   "outputs": [],
   "source": []
  }
 ],
 "metadata": {
  "kernelspec": {
   "display_name": "Python 3 (ipykernel)",
   "language": "python",
   "name": "python3"
  },
  "language_info": {
   "codemirror_mode": {
    "name": "ipython",
    "version": 3
   },
   "file_extension": ".py",
   "mimetype": "text/x-python",
   "name": "python",
   "nbconvert_exporter": "python",
   "pygments_lexer": "ipython3",
   "version": "3.9.12"
  }
 },
 "nbformat": 4,
 "nbformat_minor": 5
}
