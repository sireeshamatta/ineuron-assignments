{
 "cells": [
  {
   "cell_type": "code",
   "execution_count": 11,
   "id": "427eaf78",
   "metadata": {},
   "outputs": [
    {
     "name": "stdout",
     "output_type": "stream",
     "text": [
      "enter the number 6\n",
      "720\n"
     ]
    }
   ],
   "source": [
    "#write a python program to find a factorial of a given number?\n",
    "n=int(input(\"enter the number \"))\n",
    "f=1\n",
    "for i in range(1,n+1):\n",
    "    f=f*((n+1)-i)\n",
    "    \n",
    "print(f)"
   ]
  },
  {
   "cell_type": "code",
   "execution_count": 14,
   "id": "7c258331",
   "metadata": {},
   "outputs": [
    {
     "name": "stdout",
     "output_type": "stream",
     "text": [
      "enter the number2\n",
      "the multiplication table of the given number is\n",
      "2*1=2\n",
      "2*2=4\n",
      "2*3=6\n",
      "2*4=8\n",
      "2*5=10\n",
      "2*6=12\n",
      "2*7=14\n",
      "2*8=16\n",
      "2*9=18\n",
      "2*10=20\n"
     ]
    }
   ],
   "source": [
    "#2.write a program to display multiplication table?\n",
    "a = int(input(\"enter the number\"))\n",
    "print(\"the multiplication table of the given number is\")\n",
    "for i in range(1,11):\n",
    "    b=a*i\n",
    "    print(\"{}*{}={}\".format(a,i,b))"
   ]
  },
  {
   "cell_type": "code",
   "execution_count": 16,
   "id": "d4ebfea8",
   "metadata": {},
   "outputs": [
    {
     "name": "stdout",
     "output_type": "stream",
     "text": [
      "(1,1)\n",
      "(1,2)\n",
      "(2,3)\n",
      "(3,5)\n",
      "(5,8)\n",
      "(8,13)\n",
      "(13,21)\n",
      "(21,34)\n",
      "(34,55)\n",
      "(55,89)\n"
     ]
    }
   ],
   "source": [
    "#3 write a python program to print fibonacci sequence?\n",
    "n1=1\n",
    "n2=1\n",
    "i=10\n",
    "while(i):\n",
    "    print(\"({},{})\".format(n1,n2))\n",
    "    n3=n2+n1\n",
    "    n1=n2\n",
    "    n2=n3\n",
    "    i-=1\n"
   ]
  },
  {
   "cell_type": "code",
   "execution_count": 22,
   "id": "89ccd864",
   "metadata": {},
   "outputs": [
    {
     "name": "stdout",
     "output_type": "stream",
     "text": [
      "enter the number10\n",
      "(1, 1)\n",
      "(1, 2)\n",
      "(2, 3)\n",
      "(3, 4)\n",
      "(5, 5)\n",
      "(8, 6)\n",
      "(13, 7)\n",
      "(21, 8)\n",
      "(34, 9)\n"
     ]
    }
   ],
   "source": [
    "# another method to print fibonacci sequence\n",
    "\n",
    "def febonacci(n):\n",
    "    if type(n)==int:\n",
    "        a=1\n",
    "        b=1\n",
    "        for i in range(1,n):\n",
    "            yield a,i\n",
    "            a,b=b,a+b\n",
    "            \n",
    "for i in febonacci(int(input(\"enter the number\"))):\n",
    "    print(i)\n",
    "            \n",
    "    "
   ]
  },
  {
   "cell_type": "code",
   "execution_count": 46,
   "id": "2c3e81cb",
   "metadata": {},
   "outputs": [
    {
     "name": "stdout",
     "output_type": "stream",
     "text": [
      "enter 3 digit number 371\n",
      "371 is an ARMSTRONG NUMBER\n"
     ]
    }
   ],
   "source": [
    "#4.write a program to check AMSTRONG Number?\n",
    "#It is a 3 digit number sum of the cubes of its digits equal to its number\n",
    "A=int(input(\"enter 3 digit number \"))\n",
    "B=A//100  # returns first digit\n",
    "C=A%10  # returns last digIT\n",
    "D=A//10 # returns last two digits\n",
    "E=D%10 # returns middle digit\n",
    "\n",
    "if A == (B**3)+(E**3)+(C**3):\n",
    "    print(\"{} is an AMSTRONG NUMBER\".format(A))\n",
    "else:\n",
    "    print(\"{} is not an AMSTRONG NUMBER\".format(A))\n",
    "    "
   ]
  },
  {
   "cell_type": "code",
   "execution_count": 6,
   "id": "0e7a6ddc",
   "metadata": {},
   "outputs": [
    {
     "name": "stdout",
     "output_type": "stream",
     "text": [
      "enter the number 371\n",
      "AMSTRONG NUMBER\n"
     ]
    }
   ],
   "source": [
    "# another method to check for AMSTRONG Number?\n",
    "A = int(input(\"enter the number \"))\n",
    "temp=A\n",
    "sum=0\n",
    "\n",
    "L = len(str(A))\n",
    "while(temp!=0):\n",
    "    rem = temp % 10\n",
    "    sum=sum+rem**L\n",
    "    temp=temp//10\n",
    "    \n",
    "if sum==A:\n",
    "    print(\"AMSTRONG NUMBER\")\n",
    "else:\n",
    "    print(\"NOT AN AMSTRONG NUMBER\")\n",
    "\n",
    "\n",
    "\n"
   ]
  },
  {
   "cell_type": "code",
   "execution_count": 8,
   "id": "98dcb86b",
   "metadata": {},
   "outputs": [
    {
     "name": "stdout",
     "output_type": "stream",
     "text": [
      "enter the lower limit300\n",
      "enter the upper limit400\n",
      "370 is AMSTRONG NUMBER\n",
      "371 is AMSTRONG NUMBER\n"
     ]
    }
   ],
   "source": [
    "#5.Write a program to find an armstrong number in an interval?\n",
    "\n",
    "lower = int(input(\"enter the lower limit\"))\n",
    "upper = int(input(\"enter the upper limit\"))\n",
    "\n",
    "\n",
    "\n",
    "for i in range(lower,upper):\n",
    "    sum=0\n",
    "    temp=i\n",
    "    L=len(str(i))\n",
    "    while(temp!=0):\n",
    "        rem = temp % 10\n",
    "        sum=sum+rem**L\n",
    "        temp=temp//10\n",
    "    \n",
    "    if sum==i:\n",
    "        print(\"{} is AMSTRONG NUMBER\".format(i))\n",
    "    "
   ]
  },
  {
   "cell_type": "code",
   "execution_count": 13,
   "id": "a09e3ec3",
   "metadata": {},
   "outputs": [
    {
     "name": "stdout",
     "output_type": "stream",
     "text": [
      "enter tne no of natural numbers 10\n"
     ]
    },
    {
     "data": {
      "text/plain": [
       "55.0"
      ]
     },
     "execution_count": 13,
     "metadata": {},
     "output_type": "execute_result"
    }
   ],
   "source": [
    "#6. Write a program to find the sum of n natural numbers?\n",
    "n = int(input(\"enter tne no of natural numbers \"))\n",
    "\"\"\"by using while loop\"\"\"\n",
    "sum=0\n",
    "for i in range(1,n+1):\n",
    "    sum=sum+i\n",
    "    \n",
    "print(sum)\n",
    "\"\"\"by using formula\"\"\"  \n",
    "sum=(n*(n+1))/2\n",
    "sum\n",
    "    \n"
   ]
  },
  {
   "cell_type": "code",
   "execution_count": null,
   "id": "e69d1321",
   "metadata": {},
   "outputs": [],
   "source": []
  },
  {
   "cell_type": "code",
   "execution_count": null,
   "id": "cfcfc1ae",
   "metadata": {},
   "outputs": [],
   "source": []
  }
 ],
 "metadata": {
  "kernelspec": {
   "display_name": "Python 3 (ipykernel)",
   "language": "python",
   "name": "python3"
  },
  "language_info": {
   "codemirror_mode": {
    "name": "ipython",
    "version": 3
   },
   "file_extension": ".py",
   "mimetype": "text/x-python",
   "name": "python",
   "nbconvert_exporter": "python",
   "pygments_lexer": "ipython3",
   "version": "3.9.12"
  }
 },
 "nbformat": 4,
 "nbformat_minor": 5
}
