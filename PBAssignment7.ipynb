{
 "cells": [
  {
   "cell_type": "code",
   "execution_count": 15,
   "id": "702df323",
   "metadata": {},
   "outputs": [
    {
     "name": "stdout",
     "output_type": "stream",
     "text": [
      "enter the no of elements 5\n",
      "enter the element 1\n",
      "enter the element 2\n",
      "enter the element 3\n",
      "enter the element 4\n",
      "enter the element 5\n",
      "the sum of all the elements of array is 15\n"
     ]
    }
   ],
   "source": [
    "#1. Write a Python Program to find sum of array?\n",
    "import numpy as np\n",
    "l=[]\n",
    "n= int(input(\"enter the no of elements \"))\n",
    "for i in range(n):\n",
    "    i=int(input(\"enter the element \"))\n",
    "    l.append(i)\n",
    "\n",
    "my_arr=np.array(l)\n",
    "print(\"the sum of all the elements of array is\",my_arr.sum())   "
   ]
  },
  {
   "cell_type": "code",
   "execution_count": 8,
   "id": "38f20919",
   "metadata": {},
   "outputs": [
    {
     "name": "stdout",
     "output_type": "stream",
     "text": [
      "enter the no of elements 5\n",
      "enter the element 1\n",
      "enter the element 2\n",
      "enter the element 3\n",
      "enter the element 4\n",
      "enter the element 6\n",
      "largest element in the array is  6\n",
      "largest element in the array is  6\n"
     ]
    }
   ],
   "source": [
    "#2. Write a Python Program to find largest element in an array?\n",
    "import numpy as np\n",
    "l=[]\n",
    "L=0\n",
    "\n",
    "n= int(input(\"enter the no of elements \"))\n",
    "for i in range(n):\n",
    "    i=int(input(\"enter the element \"))\n",
    "    l.append(i)\n",
    "my_arr=np.array(l)\n",
    "\n",
    "#using for loop    \n",
    "for i in my_arr:    \n",
    "    if(L<=i):\n",
    "        L=i\n",
    "print(\"largest element in the array is \",L)\n",
    "\n",
    "#using numpy methods\n",
    "maximum=my_arr.max()\n",
    "print(\"largest element in the array is \",maximum)"
   ]
  },
  {
   "cell_type": "code",
   "execution_count": 70,
   "id": "de607d17",
   "metadata": {},
   "outputs": [
    {
     "name": "stdout",
     "output_type": "stream",
     "text": [
      "enter the size of array no of rows 3\n",
      "enter the no of columns3\n",
      "enter the element in  row and  column of the array 1\n",
      "enter the element in  row and  column of the array 2\n",
      "enter the element in  row and  column of the array 3\n",
      "enter the element in  row and  column of the array 4\n",
      "enter the element in  row and  column of the array 5\n",
      "enter the element in  row and  column of the array 6\n",
      "enter the element in  row and  column of the array 7\n",
      "enter the element in  row and  column of the array 8\n",
      "enter the element in  row and  column of the array 9\n",
      "[[[1 2 3]\n",
      "  [4 5 6]\n",
      "  [7 8 9]]]\n"
     ]
    },
    {
     "data": {
      "text/plain": [
       "array([[0, 0, 0],\n",
       "       [0, 0, 0],\n",
       "       [0, 0, 0]])"
      ]
     },
     "execution_count": 70,
     "metadata": {},
     "output_type": "execute_result"
    }
   ],
   "source": [
    "#3. Write a Python Program for array rotation?\n",
    "import numpy as np\n",
    "\n",
    "def rotate(arr,x,y):\n",
    "    T=np.zeros((y,x),\"int\")\n",
    "    print(arr)\n",
    "    for i in range(x):\n",
    "        for j in range(y,-1):\n",
    "            T[i][j]=(arr[j][i])\n",
    "    return(T)\n",
    "\n",
    "            \n",
    "            \n",
    "L=[]\n",
    "x= int(input(\"enter the size of array no of rows \"))\n",
    "y= int(input(\"enter the no of columns\"))\n",
    "for i in range(x):\n",
    "    l=[]\n",
    "    for j in range(y):\n",
    "        a=int(input(\"enter the element in  row and  column of the array \"))\n",
    "        l.append(a)\n",
    "    L.append(l)\n",
    "#print(L)\n",
    "my_arr=np.array([L])\n",
    "#print(my_arr)\n",
    "rotate(my_arr,x,y)"
   ]
  },
  {
   "cell_type": "code",
   "execution_count": 71,
   "id": "52e4d66e",
   "metadata": {},
   "outputs": [
    {
     "name": "stdout",
     "output_type": "stream",
     "text": [
      "True\n"
     ]
    }
   ],
   "source": [
    "\n",
    "#5. Write a Python Program to check if given array is Monotonic?\n",
    "\n",
    "def isMonotonic(A):\n",
    "    return(all(A[i]<=A[i+1] for i in range(len(A)-1)) or all(a[i]>=A[i+1] for i in range(len(A)-1)))\n",
    "A=[1,2,3,4,5,6]\n",
    "print(isMonotonic(A))"
   ]
  },
  {
   "cell_type": "code",
   "execution_count": 25,
   "id": "3577dad1",
   "metadata": {},
   "outputs": [
    {
     "name": "stdout",
     "output_type": "stream",
     "text": [
      "no of rows 3\n",
      "no of columns 2\n",
      "element 2\n",
      "element 5\n",
      "element 8\n",
      "element 9\n",
      "element 6\n",
      "element 5\n",
      "6\n",
      "int32\n",
      "[[2 5]\n",
      " [8 9]\n",
      " [6 5]]\n",
      "how do you like to split the 2d array 3\n",
      "the array splitted into  [array([[2, 5]]), array([[8, 9]]), array([[6, 5]])]\n",
      "new array after splitting and adding [[[8 9]]\n",
      "\n",
      " [[6 5]]\n",
      "\n",
      " [[2 5]]]\n",
      "6\n",
      "int32\n"
     ]
    }
   ],
   "source": [
    "#4. Write a Python Program to Split the array and add the first part to the end\n",
    "\n",
    "\n",
    "import numpy as np\n",
    "row=int(input(\"no of rows \"))\n",
    "col=int(input(\"no of columns \"))\n",
    "v=[[int(input(\"element \")) for i in range(col)]for j in range(row)]\n",
    "arr=np.array(v)\n",
    "print(arr.size)\n",
    "print(arr.dtype)\n",
    "print(arr)\n",
    "n=int(input(\"how do you like to split the 2d array \"))\n",
    "S=np.array_split(arr,n,0)\n",
    "print(\"the array splitted into \",S)\n",
    "#np.delete(arr,1,1)\n",
    "p=S.pop(0)\n",
    "S.append(p)\n",
    "newarr=np.array(S)\n",
    "print(\"new array after splitting and adding\",newarr)\n",
    "print(newarr.size)\n",
    "print(newarr.dtype)"
   ]
  },
  {
   "cell_type": "code",
   "execution_count": 53,
   "id": "07ad8974",
   "metadata": {},
   "outputs": [
    {
     "name": "stdout",
     "output_type": "stream",
     "text": [
      "[[1 2 3]\n",
      " [4 5 6]\n",
      " [7 8 9]]\n",
      "int32\n"
     ]
    },
    {
     "data": {
      "text/plain": [
       "array([[1, 4, 7],\n",
       "       [2, 5, 8],\n",
       "       [3, 6, 9]])"
      ]
     },
     "execution_count": 53,
     "metadata": {},
     "output_type": "execute_result"
    }
   ],
   "source": [
    "A=[[1,2,3],[4,5,6],[7,8,9]]\n",
    "Arr=np.array(A)\n",
    "print(Arr)\n",
    "print(Arr.dtype)\n",
    "temp = Arr[:,2]\n",
    "swapped =np.swapaxes(Arr,0,1)\n",
    "swapped"
   ]
  },
  {
   "cell_type": "code",
   "execution_count": null,
   "id": "b76b13e7",
   "metadata": {},
   "outputs": [],
   "source": []
  },
  {
   "cell_type": "code",
   "execution_count": null,
   "id": "5d4c2966",
   "metadata": {},
   "outputs": [],
   "source": []
  },
  {
   "cell_type": "code",
   "execution_count": null,
   "id": "959261cd",
   "metadata": {},
   "outputs": [],
   "source": []
  },
  {
   "cell_type": "code",
   "execution_count": null,
   "id": "35106eae",
   "metadata": {},
   "outputs": [],
   "source": []
  },
  {
   "cell_type": "code",
   "execution_count": null,
   "id": "bc9036bb",
   "metadata": {},
   "outputs": [],
   "source": []
  },
  {
   "cell_type": "code",
   "execution_count": null,
   "id": "71cf975a",
   "metadata": {},
   "outputs": [],
   "source": []
  },
  {
   "cell_type": "code",
   "execution_count": null,
   "id": "ca4f0d0f",
   "metadata": {},
   "outputs": [],
   "source": []
  }
 ],
 "metadata": {
  "kernelspec": {
   "display_name": "Python 3 (ipykernel)",
   "language": "python",
   "name": "python3"
  },
  "language_info": {
   "codemirror_mode": {
    "name": "ipython",
    "version": 3
   },
   "file_extension": ".py",
   "mimetype": "text/x-python",
   "name": "python",
   "nbconvert_exporter": "python",
   "pygments_lexer": "ipython3",
   "version": "3.9.12"
  }
 },
 "nbformat": 4,
 "nbformat_minor": 5
}
