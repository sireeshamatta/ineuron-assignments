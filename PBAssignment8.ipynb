{
 "cells": [
  {
   "cell_type": "code",
   "execution_count": 20,
   "id": "83239430",
   "metadata": {},
   "outputs": [
    {
     "name": "stdout",
     "output_type": "stream",
     "text": [
      "enter the no of matrices to be added (note: must be of same size or order)2\n",
      "enter the no of rows2\n",
      "enter the no of columns3\n",
      "matrix  1\n",
      "1 row\n",
      "enter the element 1\n",
      "enter the element 2\n",
      "enter the element 3\n",
      "2 row\n",
      "enter the element 4\n",
      "enter the element 5\n",
      "enter the element 6\n",
      "matrix  2\n",
      "1 row\n",
      "enter the element 7\n",
      "enter the element 8\n",
      "enter the element 9\n",
      "2 row\n",
      "enter the element 1\n",
      "enter the element 2\n",
      "enter the element 3\n",
      "[[ 8. 10. 12.]\n",
      " [ 5.  7.  9.]]  is the sum of the matrices\n"
     ]
    }
   ],
   "source": [
    "#1. Write a Python Program to Add Two Matrices?\n",
    "import numpy as np\n",
    "def userinput(x,y,i):\n",
    "    L=[]\n",
    "    print(\"matrix \",i+1)\n",
    "    for j in range(x):\n",
    "        l=[]\n",
    "        print(j+1,\"row\")\n",
    "        for k in range(y):\n",
    "            a=int(input(\"enter the element \"))\n",
    "            l.append(a)\n",
    "        L.append(l)\n",
    "    L =np.array(L)\n",
    "    return L\n",
    "def addmax(x,y,n):\n",
    "    sum=np.zeros((x,y),)\n",
    "    for i in range(n):\n",
    "        sum=np.add(sum,userinput(x,y,i))\n",
    "    return sum\n",
    "\n",
    "n = int(input(\"enter the no of matrices to be added (note: must be of same size or order)\"))\n",
    "x= int(input(\"enter the no of rows\"))\n",
    "y= int(input(\"enter the no of columns\"))\n",
    "s = addmax(x,y,n)\n",
    "print(s,\" is the sum of the matrices\")\n",
    "    \n",
    "    "
   ]
  },
  {
   "cell_type": "code",
   "execution_count": 8,
   "id": "c48ec31f",
   "metadata": {},
   "outputs": [
    {
     "name": "stdout",
     "output_type": "stream",
     "text": [
      "enter the no of matrices2\n",
      "enter the no of rows of matrix2\n",
      "enter the no of columns of matrix2\n",
      "matrix  1\n",
      "1 row\n",
      "enter the element 2\n",
      "enter the element 2\n",
      "2 row\n",
      "enter the element 2\n",
      "enter the element 2\n",
      "enter the no of rows of matrix2\n",
      "enter the no of columns of matrix2\n",
      "matrix  2\n",
      "1 row\n",
      "enter the element 2\n",
      "enter the element 2\n",
      "2 row\n",
      "enter the element 2\n",
      "enter the element 2\n",
      "[[8 8]\n",
      " [8 8]]\n"
     ]
    }
   ],
   "source": [
    "#2. Write a Python Program to Multiply Two Matrices?\n",
    "import numpy as np\n",
    "def userinput(x,y,i):\n",
    "    try:\n",
    "        L=[]\n",
    "        print(\"matrix \",i)\n",
    "        for j in range(x):\n",
    "            l=[]\n",
    "            print(j+1,\"row\")\n",
    "            for k in range(y):\n",
    "                a=int(input(\"enter the element \"))\n",
    "                l.append(a)\n",
    "            L.append(l)\n",
    "        L =np.array(L)\n",
    "    return L\n",
    "    except Exception as E:\n",
    "        print(E)\n",
    "def multimax(n):\n",
    "    try:\n",
    "        result=1\n",
    "        for i in range(1,n+1):\n",
    "            x= int(input(\"enter the no of rows of matrix\"))\n",
    "            y = int(input(\"enter the no of columns of matrix\"))\n",
    "            result = np.dot(result,userinput(x,y,i))\n",
    "        return result\n",
    "    except Exception as E:\n",
    "        print(E)\n",
    "n = int(input(\"enter the no of matrices\"))\n",
    "r = multimax(n)\n",
    "print(r)\n",
    "    "
   ]
  },
  {
   "cell_type": "code",
   "execution_count": 12,
   "id": "5e49e53e",
   "metadata": {},
   "outputs": [
    {
     "name": "stdout",
     "output_type": "stream",
     "text": [
      "enter the string my name is sireesha matta and i live at machilipatnam\n",
      "and\n",
      "at\n",
      "i\n",
      "is\n",
      "live\n",
      "machilipatnam\n",
      "matta\n",
      "my\n",
      "name\n",
      "sireesha\n"
     ]
    }
   ],
   "source": [
    "\n",
    "#4. Write a Python Program to Sort Words in Alphabetic Order?\n",
    "\n",
    "a = input(\"enter the string \")\n",
    "words = a.split()\n",
    "words.sort()\n",
    "for i in words:\n",
    "    print(i)"
   ]
  },
  {
   "cell_type": "code",
   "execution_count": 33,
   "id": "c69f968a",
   "metadata": {},
   "outputs": [
    {
     "name": "stdout",
     "output_type": "stream",
     "text": [
      " enter the string enter the stringoh my god!!! you?? python$ rockzz***\n",
      "enter the stringoh my god you python rockzz\n"
     ]
    }
   ],
   "source": [
    "#5. Write a Python Program to Remove Punctuation From a String\n",
    "a= input(\" enter the string \")\n",
    "spl = ['~','`','!','@','#','$','%','^','&','*','(',')','-','?','_','+','=','{','}','[',']','|','/',]\n",
    "for i in spl:\n",
    "    if i in a:\n",
    "        a= a.replace(i,\"\")\n",
    "        \n",
    "print(a)"
   ]
  },
  {
   "cell_type": "code",
   "execution_count": null,
   "id": "19d603f4",
   "metadata": {},
   "outputs": [],
   "source": [
    "#2. Write a Python Program to Multiply Two Matrices?\n",
    "#3. Write a Python Program to Transpose a Matrix?\n",
    "#4. Write a Python Program to Sort Words in Alphabetic Order?\n",
    "#5. Write a Python Program to Remove Punctuation From a String?"
   ]
  },
  {
   "cell_type": "code",
   "execution_count": 5,
   "id": "992cb289",
   "metadata": {},
   "outputs": [
    {
     "name": "stdout",
     "output_type": "stream",
     "text": [
      "[[1 2 3]\n",
      " [4 5 6]\n",
      " [7 8 9]]\n",
      "[[1 4 7]\n",
      " [2 5 8]\n",
      " [3 6 9]]\n",
      "[[1 2 3]\n",
      " [4 5 6]\n",
      " [7 8 9]]\n"
     ]
    },
    {
     "data": {
      "text/plain": [
       "array([[1, 4, 7],\n",
       "       [2, 5, 8],\n",
       "       [3, 6, 9]])"
      ]
     },
     "execution_count": 5,
     "metadata": {},
     "output_type": "execute_result"
    }
   ],
   "source": [
    "#3. Write a Python Program to Transpose a Matrix?\n",
    "import numpy as np\n",
    "A=np.arange(1,10).reshape((3,3))\n",
    "print(A)\n",
    "B=A.transpose(1,0)\n",
    "print(B)\n",
    "C=A.transpose(0,1)\n",
    "print(C)\n",
    "A.T\n"
   ]
  },
  {
   "cell_type": "code",
   "execution_count": null,
   "id": "b40e356c",
   "metadata": {},
   "outputs": [],
   "source": []
  },
  {
   "cell_type": "code",
   "execution_count": null,
   "id": "010b6a32",
   "metadata": {},
   "outputs": [],
   "source": []
  },
  {
   "cell_type": "code",
   "execution_count": null,
   "id": "981c1474",
   "metadata": {},
   "outputs": [],
   "source": []
  },
  {
   "cell_type": "code",
   "execution_count": null,
   "id": "ef536d91",
   "metadata": {},
   "outputs": [],
   "source": []
  },
  {
   "cell_type": "code",
   "execution_count": null,
   "id": "bfbd7cc7",
   "metadata": {},
   "outputs": [],
   "source": []
  },
  {
   "cell_type": "code",
   "execution_count": null,
   "id": "0652fdb2",
   "metadata": {},
   "outputs": [],
   "source": []
  }
 ],
 "metadata": {
  "kernelspec": {
   "display_name": "Python 3 (ipykernel)",
   "language": "python",
   "name": "python3"
  },
  "language_info": {
   "codemirror_mode": {
    "name": "ipython",
    "version": 3
   },
   "file_extension": ".py",
   "mimetype": "text/x-python",
   "name": "python",
   "nbconvert_exporter": "python",
   "pygments_lexer": "ipython3",
   "version": "3.9.12"
  }
 },
 "nbformat": 4,
 "nbformat_minor": 5
}
