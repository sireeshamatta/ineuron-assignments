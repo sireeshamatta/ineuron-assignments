{
 "cells": [
  {
   "cell_type": "code",
   "execution_count": 1,
   "id": "dd0a88b8",
   "metadata": {},
   "outputs": [
    {
     "name": "stdout",
     "output_type": "stream",
     "text": [
      "0\n",
      "1\n",
      "2\n"
     ]
    }
   ],
   "source": [
    "#Q1. WHAT ARE THE TWO VALUES OF THE BOOLEAN DATA TYPE? HOW DO YOU WRITE THEM?\n",
    "#ANS THE TWO VALUES OF THE BOOLEAN DATATYPE ARE True and False,which are the special versions of 1 and 0 respectively.Anumeric value of zero, the null value(none),the empty string and empty containers(lists, sets etc) are considered Boolean value False and all the other values considered as True by default.Boolean datatype is primarily associated with conditional statements, which allow different actions depending on the programmer specified boolean condition evaluates to True or False.\n",
    "i=0\n",
    "while(i<=2):\n",
    "    print(i)\n",
    "    i+=1\n",
    "    \n",
    "#here condition i<=2 is true until it i incremented to more than two. hence we got values while condition True and ends when condition is False    "
   ]
  },
  {
   "cell_type": "code",
   "execution_count": null,
   "id": "9dd7f142",
   "metadata": {},
   "outputs": [],
   "source": [
    "#Q2 WHAT ARE THE THREE DIFFERENT TYPES OF BOOLEAN OPERATORS?\n",
    "#ANS and (True if both conditions are True), or (True if atleast one condition is True), not(True if only the condition is False) are the three boolean operators."
   ]
  },
  {
   "cell_type": "code",
   "execution_count": 4,
   "id": "170ff0b8",
   "metadata": {},
   "outputs": [
    {
     "name": "stdout",
     "output_type": "stream",
     "text": [
      "True\n",
      "False\n",
      "False\n",
      "False\n",
      "True\n",
      "True\n",
      "True\n",
      "False\n",
      "True\n",
      "False\n"
     ]
    }
   ],
   "source": [
    "#Q3. MAKE A LIST OF EVERY BOOLEAN OPERATORS TRUTH TABLES.\n",
    "#ANS \n",
    "# AND EXAMPLE             TRUTH TABLE\n",
    "print((2>1) and (2<3))  # T    T    T\n",
    "print((2>1) and (2>3))   # T    F    F\n",
    "print((2<1) and (2<3))   # F    T    F\n",
    "print((2<1) and (2>3))   # F    F    F\n",
    "\n",
    "# OR EXAMPLE              TRUTH TABLE\n",
    "print((2>1) or (2<3))    #T    T    T\n",
    "print((2>1) or (2>3))    #T    F    T\n",
    "print((2<1) or (2<3))    #F    T    T\n",
    "print((2<1) or (2>3))    #F    F    F\n",
    "\n",
    "# NOT EXAMPLE              TRUTH TABLE\n",
    "print(not(1==2))          # True\n",
    "print(not(1!=2))          # False"
   ]
  },
  {
   "cell_type": "code",
   "execution_count": 5,
   "id": "58e83dda",
   "metadata": {},
   "outputs": [
    {
     "data": {
      "text/plain": [
       "False"
      ]
     },
     "execution_count": 5,
     "metadata": {},
     "output_type": "execute_result"
    }
   ],
   "source": [
    "#Q4 WHAT ARE THE VALUES OF THE FOLLOWING EXPRESSIONS?\n",
    "(5>4) and (3==5)\n",
    "# ANS FALSE AND FALSE IS FALSE"
   ]
  },
  {
   "cell_type": "code",
   "execution_count": 6,
   "id": "50738406",
   "metadata": {},
   "outputs": [
    {
     "data": {
      "text/plain": [
       "False"
      ]
     },
     "execution_count": 6,
     "metadata": {},
     "output_type": "execute_result"
    }
   ],
   "source": [
    "not(5>4) # not True is False"
   ]
  },
  {
   "cell_type": "code",
   "execution_count": 7,
   "id": "17932445",
   "metadata": {},
   "outputs": [
    {
     "data": {
      "text/plain": [
       "True"
      ]
     },
     "execution_count": 7,
     "metadata": {},
     "output_type": "execute_result"
    }
   ],
   "source": [
    "(5>4) or (3==5) # t or f is t"
   ]
  },
  {
   "cell_type": "code",
   "execution_count": 8,
   "id": "e1b00870",
   "metadata": {},
   "outputs": [
    {
     "data": {
      "text/plain": [
       "False"
      ]
     },
     "execution_count": 8,
     "metadata": {},
     "output_type": "execute_result"
    }
   ],
   "source": [
    "not((5>4)or (3==5)) # not(t or f) is f\n"
   ]
  },
  {
   "cell_type": "code",
   "execution_count": 9,
   "id": "91da31aa",
   "metadata": {},
   "outputs": [
    {
     "data": {
      "text/plain": [
       "False"
      ]
     },
     "execution_count": 9,
     "metadata": {},
     "output_type": "execute_result"
    }
   ],
   "source": [
    "(True and True) and (True == False)"
   ]
  },
  {
   "cell_type": "code",
   "execution_count": 10,
   "id": "ff93adca",
   "metadata": {},
   "outputs": [
    {
     "data": {
      "text/plain": [
       "True"
      ]
     },
     "execution_count": 10,
     "metadata": {},
     "output_type": "execute_result"
    }
   ],
   "source": [
    "(not False) or (not True)"
   ]
  },
  {
   "cell_type": "code",
   "execution_count": null,
   "id": "906924bb",
   "metadata": {},
   "outputs": [],
   "source": [
    "#Q5 WHAT ARE THE SIX COMPARISION OPERATORS?\n",
    "# ANS LESS THAN <, GREATER THAN >, LESSTHAN OR EQUAL TO <=, GREATER THAN OR EQUAL TO >=, EQUAL TO ==, NOT EQUAL TO !="
   ]
  },
  {
   "cell_type": "code",
   "execution_count": 12,
   "id": "14977600",
   "metadata": {},
   "outputs": [
    {
     "name": "stdout",
     "output_type": "stream",
     "text": [
      "0 True\n"
     ]
    }
   ],
   "source": [
    "#Q6 HOW DO YOU TELL THE DIFFERENCE BETWEEN THE EQUAL TO AND ASSIGNMENT OPERATORS? DESCRIBE A CONDITION AND WHEN WOULD USE ONE.\n",
    "#ANS EQUAL TO WHICH IS DENOTED TO == USED IN A CONDITIONAL STATEMENT IS USEFUL TO CHECK WHETHER IT IS TRUE OR FALSE . = IS USED TO ASSIGN A VALUE TO A VARIABLE IT IS A ASSIGNING OPERATOR.\n",
    "# EXAMPLE \n",
    "i=0 # here simply assigning 0 value to i\n",
    "while(i==0):# here we are checking whether i value is equal to 0, if true it goes inside loop\n",
    "    print (i,i==0)\n",
    "    i+=1"
   ]
  },
  {
   "cell_type": "code",
   "execution_count": 13,
   "id": "d146dec1",
   "metadata": {},
   "outputs": [
    {
     "name": "stdout",
     "output_type": "stream",
     "text": [
      "ham\n",
      "spam\n",
      "spam\n"
     ]
    }
   ],
   "source": [
    "#Q7 IDENTIFY THE THREE BLOCKS ISIDE THIS CODE:\n",
    "\n",
    "spam = 0 # here assigning value to spam\n",
    "if spam ==10: # here checking the condition, it is false \n",
    "    print('eggs') # it is not executed\n",
    "if spam >5: # here again checking the condition,it is False\n",
    "    print('bacon')# not executed\n",
    "else:# other than all above conditions\n",
    "    print('ham') # executed\n",
    "    print('spam')# executed\n",
    "    print('spam')# executed\n"
   ]
  },
  {
   "cell_type": "code",
   "execution_count": 17,
   "id": "6eef1557",
   "metadata": {},
   "outputs": [
    {
     "name": "stdout",
     "output_type": "stream",
     "text": [
      "45\n",
      "Greetings\n"
     ]
    }
   ],
   "source": [
    "\n",
    "#Q8 WRITE CODE THAT PRINTS Hello if 1 is stored in spam, prints Howdy, if 2 is stored in spam, and prints Greetings! if anything else is stored in spam\n",
    "import logging\n",
    "logging.basicConfig(filename = \"temp.log\",level = logging.DEBUG, format = \"%(asctime)s %(levelname)s %(message)s\", filemode=\"w\")\n",
    "\n",
    "\n",
    "try:\n",
    "    spam = int(input())# here assigning value to spam\n",
    "    logging.info(\"taking the value of spam %s\",spam)\n",
    "    if spam ==1: # here checking the condition, it is false \n",
    "        print('Hello') \n",
    "    if spam ==2: # here again checking the condition,it is False\n",
    "        print('Howdy')\n",
    "    else:# other than all above conditions\n",
    "        print('Greetings') \n",
    "    logging.info(\"executed successfully \")\n",
    "except Exception as e:\n",
    "    logging.error(\"error occured \")\n",
    "    logging.exception(\"exception occurred\"+str(e))\n",
    "    "
   ]
  },
  {
   "cell_type": "code",
   "execution_count": null,
   "id": "67644d05",
   "metadata": {},
   "outputs": [],
   "source": [
    "#Q IF YOUR PROGRAMME IS STUCK IN AN ENDLESS LOOP, WHAT KEYS YOU\"LL PRESS?\n",
    "#ANS CTRL+C CAN BE USED TO RAISE A KEYBOARD EXCEPTION, WHICH TERMINATES WHATEVER PROCESS RUNNING AT THE MOMENT"
   ]
  },
  {
   "cell_type": "code",
   "execution_count": null,
   "id": "940fe576",
   "metadata": {},
   "outputs": [],
   "source": [
    "#Q10 HOW CAN YOU TELL THE DIFFERENCE BETWEEN BREAK AND CONTINUE?\n",
    "#ANS BREAK STATEMENT IS USED TO STOP THE ITERATION WHEREVER CONDITION SATISFIES.\n",
    "# CONTINUE STATEMENT IS USED TO RETURN BACK TO LOOP WITHOUT EXECUTING BELOW STATEMENTS, WHEREVER CONDITION SATISFIES"
   ]
  },
  {
   "cell_type": "code",
   "execution_count": 18,
   "id": "efa096f6",
   "metadata": {},
   "outputs": [
    {
     "name": "stdout",
     "output_type": "stream",
     "text": [
      "0\n",
      "1\n",
      "2\n",
      "3\n",
      "4\n",
      "5\n",
      "6\n",
      "7\n",
      "8\n",
      "9\n",
      "0\n",
      "1\n",
      "2\n",
      "3\n",
      "4\n",
      "5\n",
      "6\n",
      "7\n",
      "8\n",
      "9\n",
      "0\n",
      "1\n",
      "2\n",
      "3\n",
      "4\n",
      "5\n",
      "6\n",
      "7\n",
      "8\n",
      "9\n"
     ]
    }
   ],
   "source": [
    "#Q11 IN A FOR LOOP, WHAT IS THE DIFFERENCE BETWEEN RANGE(10), RANGE(0,10), RANGE(0,10,1)?\n",
    "#ANS IN FOR LOOP THERE IS NO DIFFERENCE BETWEEN RANGE(10), RANGE(0,10), RANGE(0,10,1)\n",
    "\n",
    "for i in range(10):\n",
    "    print(i)\n",
    "    \n",
    "for i in range(0,10):\n",
    "    print(i)\n",
    "    \n",
    "for i in range(0,10,1):\n",
    "    print(i)\n"
   ]
  },
  {
   "cell_type": "code",
   "execution_count": 20,
   "id": "985d5290",
   "metadata": {},
   "outputs": [
    {
     "name": "stdout",
     "output_type": "stream",
     "text": [
      "1\n",
      "2\n",
      "3\n",
      "4\n",
      "5\n",
      "6\n",
      "7\n",
      "8\n",
      "9\n",
      "10\n",
      "1\n",
      "2\n",
      "3\n",
      "4\n",
      "5\n",
      "6\n",
      "7\n",
      "8\n",
      "9\n",
      "10\n"
     ]
    }
   ],
   "source": [
    "#Q12 Write a short program that prints the numbers 1 to 10 using a for loop. Then write an equivalent program that prints the numbers 1 to 10 using a while loop.\n",
    "import logging\n",
    "logging.basicConfig(filename = \"temp1.log\",level = logging.DEBUG, format = \"%(asctime)s %(levelname)s %(message)s\", filemode=\"w\")\n",
    "\n",
    "\n",
    "try:\n",
    "    for i in range(10):\n",
    "        logging.info(\"printing the numbers from 1 to 10 using for loop\")\n",
    "        print(i+1)\n",
    "        logging.info(\"successfully executed \")\n",
    "except Exception as e:\n",
    "    logging.exception(\"error occured\",str(e))\n",
    "    \n",
    "    \n",
    "try:\n",
    "    i=1\n",
    "    logging.info(\"initializing i with value %s\",i)\n",
    "    while(i<=10):\n",
    "        logging.info(\"printing the numbers from 1 to 10 using while loop\")\n",
    "        print(i)\n",
    "        i+=1\n",
    "        logging.info(\"successfully executed \")\n",
    "except Exception as e:\n",
    "    logging.exception(\"error occured\",str(e))\n",
    "    \n"
   ]
  },
  {
   "cell_type": "code",
   "execution_count": 22,
   "id": "48792588",
   "metadata": {},
   "outputs": [
    {
     "ename": "ModuleNotFoundError",
     "evalue": "No module named 'spam'",
     "output_type": "error",
     "traceback": [
      "\u001b[1;31m---------------------------------------------------------------------------\u001b[0m",
      "\u001b[1;31mModuleNotFoundError\u001b[0m                       Traceback (most recent call last)",
      "Input \u001b[1;32mIn [22]\u001b[0m, in \u001b[0;36m<cell line: 8>\u001b[1;34m()\u001b[0m\n\u001b[0;32m      5\u001b[0m     \u001b[38;5;28;01mdef\u001b[39;00m \u001b[38;5;21mbacon\u001b[39m():\n\u001b[0;32m      6\u001b[0m         \u001b[38;5;28mprint\u001b[39m(\u001b[38;5;124m\"\u001b[39m\u001b[38;5;124mhello\u001b[39m\u001b[38;5;124m\"\u001b[39m)\n\u001b[1;32m----> 8\u001b[0m \u001b[38;5;28;01mimport\u001b[39;00m \u001b[38;5;21;01mspam\u001b[39;00m        \n\u001b[0;32m      9\u001b[0m spam\u001b[38;5;241m.\u001b[39mbacon()\n",
      "\u001b[1;31mModuleNotFoundError\u001b[0m: No module named 'spam'"
     ]
    }
   ],
   "source": [
    "#Q13 If you had a function named bacon() inside a module named spam, how would you call it after importing spam?\n",
    "#ANS spam.bacon() if spam is a.py file inside the same directory\n",
    "        \n",
    "import spam        \n",
    "spam.bacon()\n",
    "    \n"
   ]
  },
  {
   "cell_type": "code",
   "execution_count": null,
   "id": "9e21fae2",
   "metadata": {},
   "outputs": [],
   "source": []
  },
  {
   "cell_type": "code",
   "execution_count": null,
   "id": "28079631",
   "metadata": {},
   "outputs": [],
   "source": []
  },
  {
   "cell_type": "code",
   "execution_count": null,
   "id": "7131ee58",
   "metadata": {},
   "outputs": [],
   "source": []
  }
 ],
 "metadata": {
  "kernelspec": {
   "display_name": "Python 3 (ipykernel)",
   "language": "python",
   "name": "python3"
  },
  "language_info": {
   "codemirror_mode": {
    "name": "ipython",
    "version": 3
   },
   "file_extension": ".py",
   "mimetype": "text/x-python",
   "name": "python",
   "nbconvert_exporter": "python",
   "pygments_lexer": "ipython3",
   "version": "3.9.12"
  }
 },
 "nbformat": 4,
 "nbformat_minor": 5
}
