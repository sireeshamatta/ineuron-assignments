{
 "cells": [
  {
   "cell_type": "code",
   "execution_count": 2,
   "id": "9e5abdfb",
   "metadata": {},
   "outputs": [
    {
     "name": "stdout",
     "output_type": "stream",
     "text": [
      "<class 'dict'>\n",
      "<class 'dict'>\n"
     ]
    }
   ],
   "source": [
    "#1. What does an empty dictionary's code look like?\n",
    "#ANS D= dict() is one method and D={} is another method to create an empty dictionary\n",
    "\n",
    "D = dict()\n",
    "print(type(D))\n",
    "\n",
    "A={}\n",
    "print(type(A))"
   ]
  },
  {
   "cell_type": "code",
   "execution_count": 4,
   "id": "b019bc33",
   "metadata": {},
   "outputs": [
    {
     "data": {
      "text/plain": [
       "dict_values([42])"
      ]
     },
     "execution_count": 4,
     "metadata": {},
     "output_type": "execute_result"
    }
   ],
   "source": [
    "#2.What is the value of a dictionary value with the key 'foo' and the value 42?\n",
    "d={'foo':42}\n",
    "d.values()"
   ]
  },
  {
   "cell_type": "code",
   "execution_count": null,
   "id": "42c17cf8",
   "metadata": {},
   "outputs": [],
   "source": [
    "#3.What is the most significant distinction between a dictionary and a list?\n",
    "#ANS: We can access all the elemts in a list by refering to its index but in dictionary we can access values only through key not by indexing.\n",
    "\n"
   ]
  },
  {
   "cell_type": "code",
   "execution_count": 5,
   "id": "52e4145e",
   "metadata": {},
   "outputs": [
    {
     "ename": "KeyError",
     "evalue": "'foo'",
     "output_type": "error",
     "traceback": [
      "\u001b[1;31m---------------------------------------------------------------------------\u001b[0m",
      "\u001b[1;31mKeyError\u001b[0m                                  Traceback (most recent call last)",
      "Input \u001b[1;32mIn [5]\u001b[0m, in \u001b[0;36m<cell line: 3>\u001b[1;34m()\u001b[0m\n\u001b[0;32m      1\u001b[0m \u001b[38;5;66;03m#4.What happens if you try to access spam['foo'] if spam is {'bar': 100}?\u001b[39;00m\n\u001b[0;32m      2\u001b[0m spam\u001b[38;5;241m=\u001b[39m{\u001b[38;5;124m'\u001b[39m\u001b[38;5;124mbar\u001b[39m\u001b[38;5;124m'\u001b[39m:\u001b[38;5;241m100\u001b[39m}\n\u001b[1;32m----> 3\u001b[0m \u001b[43mspam\u001b[49m\u001b[43m[\u001b[49m\u001b[38;5;124;43m'\u001b[39;49m\u001b[38;5;124;43mfoo\u001b[39;49m\u001b[38;5;124;43m'\u001b[39;49m\u001b[43m]\u001b[49m\n",
      "\u001b[1;31mKeyError\u001b[0m: 'foo'"
     ]
    }
   ],
   "source": [
    "#4.What happens if you try to access spam['foo'] if spam is {'bar': 100}?\n",
    "spam={'bar':100}\n",
    "spam['foo']\n",
    "#ANS It throws KeyError"
   ]
  },
  {
   "cell_type": "code",
   "execution_count": 5,
   "id": "05fe15b8",
   "metadata": {},
   "outputs": [
    {
     "data": {
      "text/plain": [
       "dict_keys(['cat', 'bar'])"
      ]
     },
     "execution_count": 5,
     "metadata": {},
     "output_type": "execute_result"
    }
   ],
   "source": [
    "#5.If a dictionary is stored in spam, what is the difference between the expressions 'cat' in spam and 'cat' in spam.keys()?\n",
    "#Ans here i assume a dictionary spam with 'cat' as a key\n",
    "spam={'cat':1,'bar':100} # here cat is a key\n",
    "spam['cat']  # it returns value of key 'cat'\n",
    "spam.keys() # here it returns a list of keys of type dict_keys\n"
   ]
  },
  {
   "cell_type": "code",
   "execution_count": 7,
   "id": "bc060710",
   "metadata": {},
   "outputs": [
    {
     "data": {
      "text/plain": [
       "dict_values(['cat'])"
      ]
     },
     "execution_count": 7,
     "metadata": {},
     "output_type": "execute_result"
    }
   ],
   "source": [
    "#6.If a dictionary is stored in spam, what is the difference between the expressions 'cat' in spam and'cat' in spam.values()?\n",
    "#Ans here i assume a dictionary spam with 'cat' as a keyvalue\n",
    "spam={\"key\":'cat'} # here cat in the values\n",
    "\n",
    "\n",
    "spam.values() # here cat values are shown not the keys it is of data type dict_values"
   ]
  },
  {
   "cell_type": "code",
   "execution_count": 11,
   "id": "6308eaad",
   "metadata": {},
   "outputs": [
    {
     "data": {
      "text/plain": [
       "{'key': 'cat', 'color': 'black'}"
      ]
     },
     "execution_count": 11,
     "metadata": {},
     "output_type": "execute_result"
    }
   ],
   "source": [
    "#7 What is a shortcut for the following code?\n",
    "\"\"\"\n",
    "if 'color' not in spam:\n",
    "    spam['color']='black'\n",
    "spam\n",
    "\"\"\"\n",
    "#another method\n",
    "spam.update({'color':'black'})\n",
    "spam"
   ]
  },
  {
   "cell_type": "code",
   "execution_count": 14,
   "id": "c7a8196d",
   "metadata": {},
   "outputs": [
    {
     "name": "stdout",
     "output_type": "stream",
     "text": [
      "{'age': '30', 'country': 'INDIA', 'name': 'sai'}\n"
     ]
    }
   ],
   "source": [
    "#8.How do you \"pretty print\" dictionary values using which module and function?\n",
    "import pprint # by importing pprint module\n",
    "s={\"name\":\"siree\",\"age\":'33',\"country\":\"INDIA\",\"name\":\"sai\",\"age\":'30',\"country\":\"INDIA\"}\n",
    "pprint.pprint(s) # by using pprint function in pprint module it arranges keys in alphabetical manner"
   ]
  },
  {
   "cell_type": "code",
   "execution_count": null,
   "id": "7a0e2f9e",
   "metadata": {},
   "outputs": [],
   "source": []
  }
 ],
 "metadata": {
  "kernelspec": {
   "display_name": "Python 3 (ipykernel)",
   "language": "python",
   "name": "python3"
  },
  "language_info": {
   "codemirror_mode": {
    "name": "ipython",
    "version": 3
   },
   "file_extension": ".py",
   "mimetype": "text/x-python",
   "name": "python",
   "nbconvert_exporter": "python",
   "pygments_lexer": "ipython3",
   "version": "3.9.12"
  }
 },
 "nbformat": 4,
 "nbformat_minor": 5
}
