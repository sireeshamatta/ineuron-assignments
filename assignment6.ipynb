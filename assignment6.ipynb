{
 "cells": [
  {
   "cell_type": "code",
   "execution_count": 3,
   "id": "77018bc1",
   "metadata": {},
   "outputs": [
    {
     "name": "stdout",
     "output_type": "stream",
     "text": [
      "hiii \"hello\" \n",
      "it's alright'\n",
      "a\\b\n",
      "hello \n",
      " world!\n",
      "Hello \r",
      "world\n",
      "hiii\t everyone\n",
      "hello \bworld\n"
     ]
    }
   ],
   "source": [
    "#1.What are escape characters, and how do you use them?\n",
    "#ANS escape characters are used to insert specific unallowed string patterns in a string without making an error\n",
    "#\\\" is used to insert a \"\" inside a double quote\n",
    "print(\"hiii \\\"hello\\\" \")\n",
    "print(\"it\\'s alright'\")\n",
    "print(\"a\\\\b\")\n",
    "print(\"hello \\n world!\")\n",
    "print(\"Hello \\rworld\")\n",
    "print(\"hiii\\t everyone\")\n",
    "print(\"hello \\bworld\")\n"
   ]
  },
  {
   "cell_type": "code",
   "execution_count": null,
   "id": "6704ebd8",
   "metadata": {},
   "outputs": [],
   "source": [
    "#2.What do the escape characters n and t stand for?\n",
    "#ANS \\n refers to new line, \\t refers to tab widespace "
   ]
  },
  {
   "cell_type": "code",
   "execution_count": null,
   "id": "4cef8f9c",
   "metadata": {},
   "outputs": [],
   "source": [
    "#3.What is the way to include backslash characters in a string?\n",
    "# simply writing the escape charector after the backlash inside a string\n",
    "print(\"hello \\n world!\")\n",
    "print(\"Hello \\rworld\")\n",
    "print(\"hiii\\t everyone\")\n",
    "print(\"hello \\bworld\")"
   ]
  },
  {
   "cell_type": "code",
   "execution_count": 5,
   "id": "f39488d1",
   "metadata": {},
   "outputs": [
    {
     "name": "stdout",
     "output_type": "stream",
     "text": [
      "howl's moving castle\n"
     ]
    }
   ],
   "source": [
    "#4.The string \"Howl's Moving Castle\" is a correct value. Why isn't the single quote character in the word Howl's not escaped a problem?\n",
    "print(\"howl's moving castle\") # is valid because it is inside  double quotes"
   ]
  },
  {
   "cell_type": "code",
   "execution_count": 3,
   "id": "ff4b00c3",
   "metadata": {},
   "outputs": [],
   "source": [
    "#5.How do you write a string of newlines if you don't want to use the n character?\n",
    "#ans \"\"\"  \"\"\" multi line strings"
   ]
  },
  {
   "cell_type": "code",
   "execution_count": 7,
   "id": "fbe828cb",
   "metadata": {},
   "outputs": [
    {
     "data": {
      "text/plain": [
       "'e'"
      ]
     },
     "execution_count": 7,
     "metadata": {},
     "output_type": "execute_result"
    }
   ],
   "source": [
    "#6.What are the values of the given expressions?\n",
    "'Hello, world!'[1] # 'e' as value\n",
    "'Hello, world!'[0:5] #'Hello' as value\n",
    "'Hello, world!'[:5] # 'Hello' as value\n",
    "'Hello, world!'[3:] # 'lo, world!' as value"
   ]
  },
  {
   "cell_type": "code",
   "execution_count": 10,
   "id": "12b0c2f5",
   "metadata": {},
   "outputs": [
    {
     "data": {
      "text/plain": [
       "False"
      ]
     },
     "execution_count": 10,
     "metadata": {},
     "output_type": "execute_result"
    }
   ],
   "source": [
    "#7.What are the values of the following expressions?\n",
    "'Hello'.upper() # 'HELLO' \n",
    "'Hello'.upper().isupper() # True\n",
    "'Hello'.lower().isupper() # False\n"
   ]
  },
  {
   "cell_type": "code",
   "execution_count": 12,
   "id": "61ce794f",
   "metadata": {},
   "outputs": [
    {
     "data": {
      "text/plain": [
       "'There-can-only-one.'"
      ]
     },
     "execution_count": 12,
     "metadata": {},
     "output_type": "execute_result"
    }
   ],
   "source": [
    "#8.What are the values of the following expressions?\n",
    "'Remember, remember, the fifth of July.'.split()\n",
    "# ['Remember,', 'remember,', 'the', 'fifth', 'of', 'July.']\n",
    "'-'.join('There can only one.'.split())\n",
    "# 'There-can-only-one.'"
   ]
  },
  {
   "cell_type": "code",
   "execution_count": 13,
   "id": "2e831fc3",
   "metadata": {},
   "outputs": [
    {
     "name": "stdout",
     "output_type": "stream",
     "text": [
      "I LOVE INDIA\n",
      "center aligned\n",
      " *******I LOVE INDIA****** \n",
      "\n"
     ]
    }
   ],
   "source": [
    "#9.What are the methods for right-justifying, left-justifying, and centering a string?\n",
    "#ANS center(len,fillchr) aligns the string according to width specified and fills the remaining space with 'fillchr' argument\n",
    "\n",
    "str= \"I LOVE INDIA\"\n",
    "print(str)\n",
    "print(\"center aligned\\n\",str.center(25,'*'),\"\\n\")"
   ]
  },
  {
   "cell_type": "code",
   "execution_count": 15,
   "id": "2c26e7a1",
   "metadata": {},
   "outputs": [
    {
     "name": "stdout",
     "output_type": "stream",
     "text": [
      "the left aligned string is:\n",
      " I LOVE INDIA************* \n",
      "\n"
     ]
    }
   ],
   "source": [
    "#ljust(len,fillchr) left align the string with specified width\n",
    "print(\"the left aligned string is:\\n\",str.ljust(25,'*'),\"\\n\")"
   ]
  },
  {
   "cell_type": "code",
   "execution_count": 16,
   "id": "9d110c63",
   "metadata": {},
   "outputs": [
    {
     "name": "stdout",
     "output_type": "stream",
     "text": [
      "right aligned string:\n",
      " *************I LOVE INDIA \n",
      "\n"
     ]
    }
   ],
   "source": [
    "#rjust(len,fillchr) right aligns the string with specified width\n",
    "print(\"right aligned string:\\n\",str.rjust(25,'*'),\"\\n\")"
   ]
  },
  {
   "cell_type": "code",
   "execution_count": 19,
   "id": "707a1886",
   "metadata": {},
   "outputs": [
    {
     "name": "stdout",
     "output_type": "stream",
     "text": [
      "28\n",
      " * * * hiiii   world * * *  \n",
      "* * * hiiii   world * * *\n",
      "25\n"
     ]
    }
   ],
   "source": [
    "#10.What is the best way to remove whitespace characters from the start or end?\n",
    "#ans strip() method will remove the charectors at the starting or ending of the string\n",
    "b = \" * * * hiiii   world * * *  \"\n",
    "print(len(b))\n",
    "print(b)\n",
    "print(b.strip())\n",
    "print(len(b.strip()))"
   ]
  },
  {
   "cell_type": "code",
   "execution_count": null,
   "id": "59bc80c0",
   "metadata": {},
   "outputs": [],
   "source": []
  }
 ],
 "metadata": {
  "kernelspec": {
   "display_name": "Python 3 (ipykernel)",
   "language": "python",
   "name": "python3"
  },
  "language_info": {
   "codemirror_mode": {
    "name": "ipython",
    "version": 3
   },
   "file_extension": ".py",
   "mimetype": "text/x-python",
   "name": "python",
   "nbconvert_exporter": "python",
   "pygments_lexer": "ipython3",
   "version": "3.9.12"
  }
 },
 "nbformat": 4,
 "nbformat_minor": 5
}
