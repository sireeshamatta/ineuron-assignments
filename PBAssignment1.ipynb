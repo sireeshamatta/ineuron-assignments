{
 "cells": [
  {
   "cell_type": "code",
   "execution_count": 2,
   "id": "ac8bde3e",
   "metadata": {},
   "outputs": [
    {
     "name": "stdout",
     "output_type": "stream",
     "text": [
      "Hello Python\n"
     ]
    }
   ],
   "source": [
    "#1. write a python program to print \"Hello Python\"?\n",
    "\n",
    "P=\"Hello Python\"\n",
    "print(P)"
   ]
  },
  {
   "cell_type": "code",
   "execution_count": 2,
   "id": "66c5d5e7",
   "metadata": {},
   "outputs": [
    {
     "name": "stdout",
     "output_type": "stream",
     "text": [
      "addition value is  16 , division value is 3.0\n"
     ]
    }
   ],
   "source": [
    "#2. write a python program to do arithmetical operations addition and division?\n",
    "a=12\n",
    "b=4\n",
    "add=a+b\n",
    "div=a/b\n",
    "print(\"addition value is \",add,\", division value is\",div)"
   ]
  },
  {
   "cell_type": "code",
   "execution_count": 3,
   "id": "a378f157",
   "metadata": {},
   "outputs": [
    {
     "name": "stdout",
     "output_type": "stream",
     "text": [
      "enter the base of the triangle5\n",
      "enter the height of the triangle8\n",
      "area of the triangle is  20.0\n"
     ]
    }
   ],
   "source": [
    "#3. write a python program to find the area of triangle.\n",
    "\n",
    "b=int(input(\"enter the base of the triangle\"))\n",
    "h=int(input(\"enter the height of the triangle\"))\n",
    "area_tri=1/2*b*h\n",
    "print(\"area of the triangle is \",area_tri)\n"
   ]
  },
  {
   "cell_type": "code",
   "execution_count": 6,
   "id": "9fa3801d",
   "metadata": {},
   "outputs": [
    {
     "name": "stdout",
     "output_type": "stream",
     "text": [
      "the value of a  is 4 the value of b  is 2 after swaping\n"
     ]
    }
   ],
   "source": [
    "#4. write a program to swap two variables?\n",
    "\n",
    "a=2\n",
    "b=4\n",
    "if a!=b:\n",
    "    c=a\n",
    "    a=b\n",
    "    b=c\n",
    "    print(\"the value of a  is\",a,\"the value of b  is\",b, \"after swaping\")\n",
    "    \n",
    "    \n"
   ]
  },
  {
   "cell_type": "code",
   "execution_count": 11,
   "id": "f9f9bf97",
   "metadata": {},
   "outputs": [
    {
     "name": "stdout",
     "output_type": "stream",
     "text": [
      "99\n",
      "52\n"
     ]
    }
   ],
   "source": [
    "#5.write a python program to generate a random number?\n",
    "\n",
    "import random\n",
    "print(random.randint(20,100))\n",
    "print(random.randrange(20,100,4))\n"
   ]
  },
  {
   "cell_type": "code",
   "execution_count": null,
   "id": "71ee0e22",
   "metadata": {},
   "outputs": [],
   "source": []
  }
 ],
 "metadata": {
  "kernelspec": {
   "display_name": "Python 3 (ipykernel)",
   "language": "python",
   "name": "python3"
  },
  "language_info": {
   "codemirror_mode": {
    "name": "ipython",
    "version": 3
   },
   "file_extension": ".py",
   "mimetype": "text/x-python",
   "name": "python",
   "nbconvert_exporter": "python",
   "pygments_lexer": "ipython3",
   "version": "3.9.12"
  }
 },
 "nbformat": 4,
 "nbformat_minor": 5
}
