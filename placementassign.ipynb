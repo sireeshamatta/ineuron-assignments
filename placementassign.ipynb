{
 "cells": [
  {
   "cell_type": "code",
   "execution_count": 1,
   "id": "fef5aa42",
   "metadata": {},
   "outputs": [],
   "source": [
    "s=open(\"example.txt\",\"w\")\n"
   ]
  },
  {
   "cell_type": "code",
   "execution_count": 2,
   "id": "71966db1",
   "metadata": {},
   "outputs": [
    {
     "data": {
      "text/plain": [
       "31"
      ]
     },
     "execution_count": 2,
     "metadata": {},
     "output_type": "execute_result"
    }
   ],
   "source": [
    "s.write(\"This is a placement assignment \")"
   ]
  },
  {
   "cell_type": "code",
   "execution_count": 3,
   "id": "ec228f15",
   "metadata": {},
   "outputs": [],
   "source": [
    "s.close()"
   ]
  },
  {
   "cell_type": "code",
   "execution_count": 4,
   "id": "6fdfa168",
   "metadata": {},
   "outputs": [],
   "source": [
    "s1=open(\"output.txt\",\"w\")"
   ]
  },
  {
   "cell_type": "code",
   "execution_count": 5,
   "id": "7b633748",
   "metadata": {},
   "outputs": [],
   "source": [
    "s=open(\"example.txt\",\"r\")"
   ]
  },
  {
   "cell_type": "code",
   "execution_count": 6,
   "id": "998332c3",
   "metadata": {},
   "outputs": [],
   "source": [
    "for line in s:\n",
    "    s1.write(line.replace(\"placement\",\"screening\"))\n",
    "s.close()\n",
    "s1.close()"
   ]
  },
  {
   "cell_type": "code",
   "execution_count": 7,
   "id": "f9e97246",
   "metadata": {},
   "outputs": [
    {
     "data": {
      "text/plain": [
       "'This is a screening assignment '"
      ]
     },
     "execution_count": 7,
     "metadata": {},
     "output_type": "execute_result"
    }
   ],
   "source": [
    "s1=open(\"output.txt\",\"r\")\n",
    "s1.read()"
   ]
  },
  {
   "cell_type": "code",
   "execution_count": 8,
   "id": "19c75216",
   "metadata": {},
   "outputs": [],
   "source": [
    "s1.close()"
   ]
  },
  {
   "cell_type": "code",
   "execution_count": 9,
   "id": "7aef78d7",
   "metadata": {},
   "outputs": [],
   "source": [
    "import os\n",
    "os.remove(\"example.txt\")"
   ]
  },
  {
   "cell_type": "code",
   "execution_count": 11,
   "id": "c25fb60e",
   "metadata": {},
   "outputs": [
    {
     "name": "stdout",
     "output_type": "stream",
     "text": [
      "this file not exist\n"
     ]
    }
   ],
   "source": [
    "if os.path.exists(\"example.txt\"):\n",
    "    os.remove(\"example.txt\")\n",
    "else:\n",
    "    print(\"this file not exist\")\n"
   ]
  },
  {
   "cell_type": "code",
   "execution_count": 12,
   "id": "613f8c9f",
   "metadata": {},
   "outputs": [],
   "source": [
    "os.rename(\"output.txt\",\"example.txt\")"
   ]
  },
  {
   "cell_type": "code",
   "execution_count": 13,
   "id": "466593ba",
   "metadata": {},
   "outputs": [
    {
     "name": "stdout",
     "output_type": "stream",
     "text": [
      "file name is changed \n"
     ]
    }
   ],
   "source": [
    "if os.path.exists(\"example.txt\"):\n",
    "    print(\"file name is changed \")\n",
    "else:\n",
    "    os.rename(\"output.txt\",\"example.txt\")"
   ]
  },
  {
   "cell_type": "code",
   "execution_count": 14,
   "id": "92fdf1fc",
   "metadata": {},
   "outputs": [
    {
     "data": {
      "text/plain": [
       "'This is a screening assignment '"
      ]
     },
     "execution_count": 14,
     "metadata": {},
     "output_type": "execute_result"
    }
   ],
   "source": [
    "s=open(\"example.txt\",\"r\")\n",
    "s.read()"
   ]
  },
  {
   "cell_type": "code",
   "execution_count": 15,
   "id": "a84dc8cc",
   "metadata": {},
   "outputs": [],
   "source": [
    "s.close()"
   ]
  },
  {
   "cell_type": "code",
   "execution_count": 20,
   "id": "62dac733",
   "metadata": {},
   "outputs": [],
   "source": [
    "# string replacement within same file\n",
    "# i have used example2.txt with same data\n",
    "s1=open(\"example2.txt\",\"w\")\n",
    "s1.write(\"This is a placement assignment\")\n",
    "s1.close()"
   ]
  },
  {
   "cell_type": "code",
   "execution_count": 28,
   "id": "13d991be",
   "metadata": {},
   "outputs": [
    {
     "data": {
      "text/plain": [
       "'This is a screening assignment'"
      ]
     },
     "execution_count": 28,
     "metadata": {},
     "output_type": "execute_result"
    }
   ],
   "source": [
    "s1=open(\"example2.txt\",\"r+\")\n",
    "data=s1.read()\n",
    "data=data.replace(\"placement\",\"screening\")\n",
    "s1.seek(0)\n",
    "s1.truncate()\n",
    "s1.write(data)\n",
    "s1.close()\n",
    "s1=open(\"example2.txt\",\"r\")\n",
    "s1.read()\n"
   ]
  },
  {
   "cell_type": "code",
   "execution_count": null,
   "id": "2615b3e4",
   "metadata": {},
   "outputs": [],
   "source": []
  }
 ],
 "metadata": {
  "kernelspec": {
   "display_name": "Python 3 (ipykernel)",
   "language": "python",
   "name": "python3"
  },
  "language_info": {
   "codemirror_mode": {
    "name": "ipython",
    "version": 3
   },
   "file_extension": ".py",
   "mimetype": "text/x-python",
   "name": "python",
   "nbconvert_exporter": "python",
   "pygments_lexer": "ipython3",
   "version": "3.9.12"
  }
 },
 "nbformat": 4,
 "nbformat_minor": 5
}
